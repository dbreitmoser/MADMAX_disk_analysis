{
 "cells": [
  {
   "cell_type": "code",
   "execution_count": 2,
   "metadata": {},
   "outputs": [],
   "source": [
    "#* for data manipulation \n",
    "import pandas as pd \n",
    "import numpy as np \n",
    "\n",
    "from disk_analysis_tools import tiling_disk_plots as tdp\n",
    "from disk_analysis_tools import tiling_disk_utils as tdu\n",
    "\n",
    "#* sometimes needed for creating bins for histograms \n",
    "from astropy.stats import knuth_bin_width\n",
    "\n",
    "#* for plotting: \n",
    "import matplotlib.pyplot as plt \n",
    "import seaborn as sns\n",
    "%matplotlib inline\n",
    "sns.set_theme(style=\"ticks\")\n",
    "sns.set_context(\"talk\")\n",
    "\n",
    "\n",
    "sns.set_theme(style=\"ticks\")\n",
    "sns.set_context(\"talk\")"
   ]
  },
  {
   "cell_type": "markdown",
   "metadata": {},
   "source": [
    "## Data Import"
   ]
  },
  {
   "cell_type": "code",
   "execution_count": 15,
   "metadata": {},
   "outputs": [],
   "source": [
    "from pathlib import Path\n",
    "measurement_folder  = Path.cwd().parent / 'measurements'\n",
    "lao_meas_files = tdu.read_txt_files(measurement_folder/ 'lao_vac_new_pump')"
   ]
  },
  {
   "cell_type": "markdown",
   "metadata": {},
   "source": [
    "Split lao from steel files"
   ]
  },
  {
   "cell_type": "code",
   "execution_count": 16,
   "metadata": {},
   "outputs": [],
   "source": [
    "lao_files = {key: val for key, val in lao_meas_files.items() if key.split('_')[1]=='lao'}"
   ]
  },
  {
   "cell_type": "markdown",
   "metadata": {},
   "source": [
    "Redefine keys to numeric value of vacuum for sorting later "
   ]
  },
  {
   "cell_type": "code",
   "execution_count": 17,
   "metadata": {},
   "outputs": [],
   "source": [
    "lao_files = {key.split('_')[2].split('.')[0]: val for key, val in lao_files.items()}"
   ]
  },
  {
   "cell_type": "code",
   "execution_count": 18,
   "metadata": {},
   "outputs": [],
   "source": [
    "sorted_lao_raw = {key:val for key, val in sorted(lao_files.items(), key=lambda item: abs(float(tdu.key_sort_helper(item[0]))))}"
   ]
  },
  {
   "cell_type": "code",
   "execution_count": 19,
   "metadata": {},
   "outputs": [],
   "source": [
    "sorted_lao_pt = {key: tdu.point_table(val) for key, val in sorted_lao_raw.items()}"
   ]
  },
  {
   "cell_type": "code",
   "execution_count": 20,
   "metadata": {},
   "outputs": [],
   "source": [
    "reference_measurement = sorted_lao_pt['1000mbar']"
   ]
  },
  {
   "cell_type": "code",
   "execution_count": 21,
   "metadata": {},
   "outputs": [],
   "source": [
    "sorted_lao_pt = {key: tdu.combine_mean_measurements(val, reference_measurement) for key, val in sorted_lao_pt.items()}"
   ]
  },
  {
   "cell_type": "code",
   "execution_count": 22,
   "metadata": {},
   "outputs": [
    {
     "data": {
      "text/plain": [
       "dict_keys(['70mbar', '100mbar', '200mbar', '300mbar', '400mbar', '500mbar', '600mbar', '700mbar', '800mbar', '900mbar', '1000mbar'])"
      ]
     },
     "execution_count": 22,
     "metadata": {},
     "output_type": "execute_result"
    }
   ],
   "source": [
    "sorted_lao_pt.keys()"
   ]
  },
  {
   "cell_type": "code",
   "execution_count": 23,
   "metadata": {},
   "outputs": [],
   "source": [
    "def calc_ring_means(vac_val, meas_data):\n",
    "    #? Input to this function are key, value of sorted_steel/lao_pt dict\\\n",
    "\n",
    "    measurement_df = pd.DataFrame()\n",
    "    #--------------------------------------------\n",
    "    #? one Hexagon has 4 rings of points. 1 is the most inner one, 4 is the most outer\n",
    "    ring_1 = [1, 36, 19, 18]\n",
    "    ring_2 = [2,3,4,33,34,35,20,21,22,15,16,17]\n",
    "    ring_3 = [9,8,7,6,5, 32,31,30,29,28,\n",
    "            27,26,25,24,23, 14,13,12,11,10]\n",
    "    ring_4 = list(range(37, 61, 1))\n",
    "    rings = [ring_1, ring_2, ring_3, ring_4]\n",
    "    #----------------------------------------------\n",
    "\n",
    "    ring_data = {f'data_r{num+1}': meas_data.query(f'point in {ring}') for num, ring in enumerate(rings)} # collect meas data for rings in dict\n",
    "    rings_mean_est = []\n",
    "    rings_errors = []\n",
    "\n",
    "    for ring_nr in range(1,5,1):\n",
    "        ring_datapoints = ring_data[f'data_r{ring_nr}']['z_mean'].to_numpy()\n",
    "        ring_mean = np.mean(ring_datapoints)\n",
    "        ring_err = np.std(ring_datapoints) / np.sqrt(len(ring_datapoints))\n",
    "        \n",
    "        rings_mean_est.append(ring_mean*1e3)\n",
    "        rings_errors.append(ring_err*1e3)\n",
    "\n",
    "    measurement_df[\"ring_est\"] = rings_mean_est\n",
    "    measurement_df[\"ring_err\"] = rings_errors\n",
    "    measurement_df[\"vacuum_mbar\"] = tdu.key_sort_helper(vac_val)\n",
    "    measurement_df[\"ring_nr\"] = list(range(1,5,1))\n",
    "    return measurement_df"
   ]
  },
  {
   "cell_type": "code",
   "execution_count": 24,
   "metadata": {},
   "outputs": [],
   "source": [
    "lao_ring_data_plot = [calc_ring_means(key, val) for key, val in sorted_lao_pt.items()]"
   ]
  },
  {
   "cell_type": "code",
   "execution_count": 25,
   "metadata": {},
   "outputs": [
    {
     "data": {
      "text/html": [
       "<div>\n",
       "<style scoped>\n",
       "    .dataframe tbody tr th:only-of-type {\n",
       "        vertical-align: middle;\n",
       "    }\n",
       "\n",
       "    .dataframe tbody tr th {\n",
       "        vertical-align: top;\n",
       "    }\n",
       "\n",
       "    .dataframe thead th {\n",
       "        text-align: right;\n",
       "    }\n",
       "</style>\n",
       "<table border=\"1\" class=\"dataframe\">\n",
       "  <thead>\n",
       "    <tr style=\"text-align: right;\">\n",
       "      <th></th>\n",
       "      <th>ring_est</th>\n",
       "      <th>ring_err</th>\n",
       "      <th>vacuum_mbar</th>\n",
       "      <th>ring_nr</th>\n",
       "    </tr>\n",
       "  </thead>\n",
       "  <tbody>\n",
       "    <tr>\n",
       "      <th>0</th>\n",
       "      <td>-26.839161</td>\n",
       "      <td>2.394654</td>\n",
       "      <td>70</td>\n",
       "      <td>1</td>\n",
       "    </tr>\n",
       "    <tr>\n",
       "      <th>1</th>\n",
       "      <td>-25.217949</td>\n",
       "      <td>3.701620</td>\n",
       "      <td>70</td>\n",
       "      <td>2</td>\n",
       "    </tr>\n",
       "    <tr>\n",
       "      <th>2</th>\n",
       "      <td>-16.046154</td>\n",
       "      <td>2.319638</td>\n",
       "      <td>70</td>\n",
       "      <td>3</td>\n",
       "    </tr>\n",
       "    <tr>\n",
       "      <th>3</th>\n",
       "      <td>-5.605769</td>\n",
       "      <td>2.848266</td>\n",
       "      <td>70</td>\n",
       "      <td>4</td>\n",
       "    </tr>\n",
       "    <tr>\n",
       "      <th>0</th>\n",
       "      <td>-19.372378</td>\n",
       "      <td>6.307317</td>\n",
       "      <td>100</td>\n",
       "      <td>1</td>\n",
       "    </tr>\n",
       "  </tbody>\n",
       "</table>\n",
       "</div>"
      ],
      "text/plain": [
       "    ring_est  ring_err vacuum_mbar  ring_nr\n",
       "0 -26.839161  2.394654          70        1\n",
       "1 -25.217949  3.701620          70        2\n",
       "2 -16.046154  2.319638          70        3\n",
       "3  -5.605769  2.848266          70        4\n",
       "0 -19.372378  6.307317         100        1"
      ]
     },
     "execution_count": 25,
     "metadata": {},
     "output_type": "execute_result"
    }
   ],
   "source": [
    "lao_ring_data_df = pd.concat(lao_ring_data_plot, axis=0)\n",
    "lao_ring_data_df.head(5)"
   ]
  },
  {
   "cell_type": "code",
   "execution_count": 26,
   "metadata": {},
   "outputs": [],
   "source": [
    "def plot_rings_vs_z(ring_data_df, specimen=\"Lao\"): \n",
    "    from matplotlib.pyplot import cm \n",
    "    color = cm.viridis(np.linspace(0, 1, len(sorted_lao_pt.keys())))\n",
    "\n",
    "    fig, ax = plt.subplots(1,1, figsize=(7,6))\n",
    "    ax.set_title(f'{specimen} Hexagon: air pruessure effect')\n",
    "    ax.set_xlabel('Ring Number')\n",
    "    ax.set_ylabel('z [µm]')\n",
    "\n",
    "\n",
    "    for vac, c in zip(ring_data_df[\"vacuum_mbar\"].unique(), color):\n",
    "        plot_data = ring_data_df.loc[ring_data_df[\"vacuum_mbar\"]==vac,:]\n",
    "        ax.errorbar(list(range(1,5,1)), plot_data[\"ring_est\"], yerr=plot_data[\"ring_err\"], marker='x', label=f\"{vac} mbar\", capsize=5, c=c)\n",
    "        \n",
    "    ax.legend(bbox_to_anchor=(1.05, 1), loc='upper left', borderaxespad=0.)\n",
    "    plt.grid(color='grey', linestyle='-', linewidth=1, alpha=0.2)\n",
    "    # ax.tick_params(labelsize=12)\n",
    "    ax.set_xticks(range(1,5,1))\n",
    "    return fig, ax"
   ]
  },
  {
   "cell_type": "code",
   "execution_count": 27,
   "metadata": {},
   "outputs": [
    {
     "data": {
      "text/plain": [
       "(<Figure size 504x432 with 1 Axes>,\n",
       " <AxesSubplot:title={'center':'Lao Hexagon: air pruessure effect'}, xlabel='Ring Number', ylabel='z [µm]'>)"
      ]
     },
     "execution_count": 27,
     "metadata": {},
     "output_type": "execute_result"
    },
    {
     "data": {
      "image/png": "[encoded data removed]",
      "text/plain": [
       "<Figure size 504x432 with 1 Axes>"
      ]
     },
     "metadata": {},
     "output_type": "display_data"
    }
   ],
   "source": [
    "plot_rings_vs_z(lao_ring_data_df)"
   ]
  },
  {
   "cell_type": "markdown",
   "metadata": {},
   "source": [
    "## Statistical tests"
   ]
  },
  {
   "cell_type": "code",
   "execution_count": 30,
   "metadata": {},
   "outputs": [],
   "source": [
    "import pingouin as pg "
   ]
  },
  {
   "cell_type": "code",
   "execution_count": 31,
   "metadata": {},
   "outputs": [],
   "source": [
    "ring_1_testdata = lao_ring_data_df.loc[lao_ring_data_df.ring_nr==1, :]"
   ]
  },
  {
   "cell_type": "code",
   "execution_count": 32,
   "metadata": {},
   "outputs": [],
   "source": [
    "ring_1_testdata.reset_index(inplace=True)"
   ]
  },
  {
   "cell_type": "code",
   "execution_count": 33,
   "metadata": {},
   "outputs": [
    {
     "data": {
      "text/plain": [
       "Index(['index', 'ring_est', 'ring_err', 'vacuum_mbar', 'ring_nr'], dtype='object')"
      ]
     },
     "execution_count": 33,
     "metadata": {},
     "output_type": "execute_result"
    }
   ],
   "source": [
    "ring_1_testdata.keys()"
   ]
  },
  {
   "cell_type": "code",
   "execution_count": 34,
   "metadata": {},
   "outputs": [
    {
     "name": "stderr",
     "output_type": "stream",
     "text": [
      "C:\\Users\\Domin\\AppData\\Local\\Temp\\ipykernel_15032\\2489066405.py:1: SettingWithCopyWarning: \n",
      "A value is trying to be set on a copy of a slice from a DataFrame\n",
      "\n",
      "See the caveats in the documentation: https://pandas.pydata.org/pandas-docs/stable/user_guide/indexing.html#returning-a-view-versus-a-copy\n",
      "  ring_1_testdata.drop(ring_1_testdata.index[10], inplace=True)\n"
     ]
    }
   ],
   "source": [
    "ring_1_testdata.drop(ring_1_testdata.index[10], inplace=True)"
   ]
  },
  {
   "cell_type": "code",
   "execution_count": 35,
   "metadata": {},
   "outputs": [
    {
     "data": {
      "text/html": [
       "<div>\n",
       "<style scoped>\n",
       "    .dataframe tbody tr th:only-of-type {\n",
       "        vertical-align: middle;\n",
       "    }\n",
       "\n",
       "    .dataframe tbody tr th {\n",
       "        vertical-align: top;\n",
       "    }\n",
       "\n",
       "    .dataframe thead th {\n",
       "        text-align: right;\n",
       "    }\n",
       "</style>\n",
       "<table border=\"1\" class=\"dataframe\">\n",
       "  <thead>\n",
       "    <tr style=\"text-align: right;\">\n",
       "      <th></th>\n",
       "      <th>index</th>\n",
       "      <th>ring_est</th>\n",
       "      <th>ring_err</th>\n",
       "      <th>vacuum_mbar</th>\n",
       "      <th>ring_nr</th>\n",
       "    </tr>\n",
       "  </thead>\n",
       "  <tbody>\n",
       "    <tr>\n",
       "      <th>0</th>\n",
       "      <td>0</td>\n",
       "      <td>-26.839161</td>\n",
       "      <td>2.394654</td>\n",
       "      <td>70</td>\n",
       "      <td>1</td>\n",
       "    </tr>\n",
       "    <tr>\n",
       "      <th>1</th>\n",
       "      <td>0</td>\n",
       "      <td>-19.372378</td>\n",
       "      <td>6.307317</td>\n",
       "      <td>100</td>\n",
       "      <td>1</td>\n",
       "    </tr>\n",
       "    <tr>\n",
       "      <th>2</th>\n",
       "      <td>0</td>\n",
       "      <td>-22.660839</td>\n",
       "      <td>3.190328</td>\n",
       "      <td>200</td>\n",
       "      <td>1</td>\n",
       "    </tr>\n",
       "    <tr>\n",
       "      <th>3</th>\n",
       "      <td>0</td>\n",
       "      <td>-20.557692</td>\n",
       "      <td>5.201230</td>\n",
       "      <td>300</td>\n",
       "      <td>1</td>\n",
       "    </tr>\n",
       "    <tr>\n",
       "      <th>4</th>\n",
       "      <td>0</td>\n",
       "      <td>-25.837413</td>\n",
       "      <td>4.166339</td>\n",
       "      <td>400</td>\n",
       "      <td>1</td>\n",
       "    </tr>\n",
       "    <tr>\n",
       "      <th>5</th>\n",
       "      <td>0</td>\n",
       "      <td>-31.809441</td>\n",
       "      <td>4.591510</td>\n",
       "      <td>500</td>\n",
       "      <td>1</td>\n",
       "    </tr>\n",
       "    <tr>\n",
       "      <th>6</th>\n",
       "      <td>0</td>\n",
       "      <td>-36.629371</td>\n",
       "      <td>3.336929</td>\n",
       "      <td>600</td>\n",
       "      <td>1</td>\n",
       "    </tr>\n",
       "    <tr>\n",
       "      <th>7</th>\n",
       "      <td>0</td>\n",
       "      <td>-24.868881</td>\n",
       "      <td>10.284560</td>\n",
       "      <td>700</td>\n",
       "      <td>1</td>\n",
       "    </tr>\n",
       "    <tr>\n",
       "      <th>8</th>\n",
       "      <td>0</td>\n",
       "      <td>-28.589161</td>\n",
       "      <td>3.664345</td>\n",
       "      <td>800</td>\n",
       "      <td>1</td>\n",
       "    </tr>\n",
       "    <tr>\n",
       "      <th>9</th>\n",
       "      <td>0</td>\n",
       "      <td>-37.527972</td>\n",
       "      <td>4.146273</td>\n",
       "      <td>900</td>\n",
       "      <td>1</td>\n",
       "    </tr>\n",
       "  </tbody>\n",
       "</table>\n",
       "</div>"
      ],
      "text/plain": [
       "   index   ring_est   ring_err vacuum_mbar  ring_nr\n",
       "0      0 -26.839161   2.394654          70        1\n",
       "1      0 -19.372378   6.307317         100        1\n",
       "2      0 -22.660839   3.190328         200        1\n",
       "3      0 -20.557692   5.201230         300        1\n",
       "4      0 -25.837413   4.166339         400        1\n",
       "5      0 -31.809441   4.591510         500        1\n",
       "6      0 -36.629371   3.336929         600        1\n",
       "7      0 -24.868881  10.284560         700        1\n",
       "8      0 -28.589161   3.664345         800        1\n",
       "9      0 -37.527972   4.146273         900        1"
      ]
     },
     "execution_count": 35,
     "metadata": {},
     "output_type": "execute_result"
    }
   ],
   "source": [
    "ring_1_testdata"
   ]
  },
  {
   "cell_type": "code",
   "execution_count": 36,
   "metadata": {},
   "outputs": [
    {
     "name": "stderr",
     "output_type": "stream",
     "text": [
      "C:\\Users\\Domin\\Anaconda3\\envs\\py_disk_env\\lib\\site-packages\\pingouin\\parametric.py:1028: RuntimeWarning: invalid value encountered in double_scalars\n",
      "  ms_resid = ss_resid / df_resid\n"
     ]
    },
    {
     "data": {
      "text/html": [
       "<div>\n",
       "<style scoped>\n",
       "    .dataframe tbody tr th:only-of-type {\n",
       "        vertical-align: middle;\n",
       "    }\n",
       "\n",
       "    .dataframe tbody tr th {\n",
       "        vertical-align: top;\n",
       "    }\n",
       "\n",
       "    .dataframe thead th {\n",
       "        text-align: right;\n",
       "    }\n",
       "</style>\n",
       "<table border=\"1\" class=\"dataframe\">\n",
       "  <thead>\n",
       "    <tr style=\"text-align: right;\">\n",
       "      <th></th>\n",
       "      <th>Source</th>\n",
       "      <th>SS</th>\n",
       "      <th>DF</th>\n",
       "      <th>MS</th>\n",
       "      <th>np2</th>\n",
       "    </tr>\n",
       "  </thead>\n",
       "  <tbody>\n",
       "    <tr>\n",
       "      <th>0</th>\n",
       "      <td>vacuum_mbar</td>\n",
       "      <td>1941.385494</td>\n",
       "      <td>10</td>\n",
       "      <td>194.138549</td>\n",
       "      <td>1.0</td>\n",
       "    </tr>\n",
       "    <tr>\n",
       "      <th>1</th>\n",
       "      <td>ring_nr</td>\n",
       "      <td>1552.818344</td>\n",
       "      <td>3</td>\n",
       "      <td>517.606115</td>\n",
       "      <td>1.0</td>\n",
       "    </tr>\n",
       "    <tr>\n",
       "      <th>2</th>\n",
       "      <td>vacuum_mbar * ring_nr</td>\n",
       "      <td>359.950184</td>\n",
       "      <td>30</td>\n",
       "      <td>11.998339</td>\n",
       "      <td>1.0</td>\n",
       "    </tr>\n",
       "    <tr>\n",
       "      <th>3</th>\n",
       "      <td>Residual</td>\n",
       "      <td>0.000000</td>\n",
       "      <td>0</td>\n",
       "      <td>NaN</td>\n",
       "      <td>NaN</td>\n",
       "    </tr>\n",
       "  </tbody>\n",
       "</table>\n",
       "</div>"
      ],
      "text/plain": [
       "                  Source           SS  DF          MS  np2\n",
       "0            vacuum_mbar  1941.385494  10  194.138549  1.0\n",
       "1                ring_nr  1552.818344   3  517.606115  1.0\n",
       "2  vacuum_mbar * ring_nr   359.950184  30   11.998339  1.0\n",
       "3               Residual     0.000000   0         NaN  NaN"
      ]
     },
     "execution_count": 36,
     "metadata": {},
     "output_type": "execute_result"
    }
   ],
   "source": [
    "pg.anova(data=lao_ring_data_df, dv=\"ring_est\", between=[\"vacuum_mbar\",\"ring_nr\"], detailed=True)"
   ]
  },
  {
   "cell_type": "code",
   "execution_count": 37,
   "metadata": {},
   "outputs": [],
   "source": [
    "vac_testdata = lao_ring_data_df.loc[lao_ring_data_df.vacuum_mbar==70, :]"
   ]
  },
  {
   "cell_type": "code",
   "execution_count": 38,
   "metadata": {},
   "outputs": [
    {
     "name": "stderr",
     "output_type": "stream",
     "text": [
      "C:\\Users\\Domin\\Anaconda3\\envs\\py_disk_env\\lib\\site-packages\\pingouin\\parametric.py:949: RuntimeWarning: invalid value encountered in double_scalars\n",
      "  mserror = sserror / ddof2\n",
      "C:\\Users\\Domin\\Anaconda3\\envs\\py_disk_env\\lib\\site-packages\\pingouin\\parametric.py:956: RuntimeWarning: invalid value encountered in double_scalars\n",
      "  np2 = ssbetween / (ssbetween + sserror)  # = ssbetween / sstotal\n"
     ]
    },
    {
     "data": {
      "text/html": [
       "<div>\n",
       "<style scoped>\n",
       "    .dataframe tbody tr th:only-of-type {\n",
       "        vertical-align: middle;\n",
       "    }\n",
       "\n",
       "    .dataframe tbody tr th {\n",
       "        vertical-align: top;\n",
       "    }\n",
       "\n",
       "    .dataframe thead th {\n",
       "        text-align: right;\n",
       "    }\n",
       "</style>\n",
       "<table border=\"1\" class=\"dataframe\">\n",
       "  <thead>\n",
       "    <tr style=\"text-align: right;\">\n",
       "      <th></th>\n",
       "      <th>Source</th>\n",
       "      <th>SS</th>\n",
       "      <th>DF</th>\n",
       "      <th>MS</th>\n",
       "    </tr>\n",
       "  </thead>\n",
       "  <tbody>\n",
       "    <tr>\n",
       "      <th>0</th>\n",
       "      <td>ring_nr</td>\n",
       "      <td>0.0</td>\n",
       "      <td>-1</td>\n",
       "      <td>-0.0</td>\n",
       "    </tr>\n",
       "    <tr>\n",
       "      <th>1</th>\n",
       "      <td>Within</td>\n",
       "      <td>0.0</td>\n",
       "      <td>0</td>\n",
       "      <td>NaN</td>\n",
       "    </tr>\n",
       "  </tbody>\n",
       "</table>\n",
       "</div>"
      ],
      "text/plain": [
       "    Source   SS  DF   MS\n",
       "0  ring_nr  0.0  -1 -0.0\n",
       "1   Within  0.0   0  NaN"
      ]
     },
     "execution_count": 38,
     "metadata": {},
     "output_type": "execute_result"
    }
   ],
   "source": [
    "pg.anova(data=vac_testdata, dv=\"ring_est\", between=\"ring_nr\", detailed=True)"
   ]
  },
  {
   "cell_type": "code",
   "execution_count": 39,
   "metadata": {},
   "outputs": [],
   "source": [
    "lao_ring_data_df[\"ring_est_abs\"] = -lao_ring_data_df[\"ring_est\"]"
   ]
  },
  {
   "cell_type": "code",
   "execution_count": 40,
   "metadata": {},
   "outputs": [
    {
     "name": "stderr",
     "output_type": "stream",
     "text": [
      "C:\\Users\\Domin\\Anaconda3\\envs\\py_disk_env\\lib\\site-packages\\pingouin\\parametric.py:1028: RuntimeWarning: invalid value encountered in double_scalars\n",
      "  ms_resid = ss_resid / df_resid\n"
     ]
    },
    {
     "data": {
      "text/html": [
       "<div>\n",
       "<style scoped>\n",
       "    .dataframe tbody tr th:only-of-type {\n",
       "        vertical-align: middle;\n",
       "    }\n",
       "\n",
       "    .dataframe tbody tr th {\n",
       "        vertical-align: top;\n",
       "    }\n",
       "\n",
       "    .dataframe thead th {\n",
       "        text-align: right;\n",
       "    }\n",
       "</style>\n",
       "<table border=\"1\" class=\"dataframe\">\n",
       "  <thead>\n",
       "    <tr style=\"text-align: right;\">\n",
       "      <th></th>\n",
       "      <th>Source</th>\n",
       "      <th>SS</th>\n",
       "      <th>DF</th>\n",
       "      <th>MS</th>\n",
       "      <th>np2</th>\n",
       "    </tr>\n",
       "  </thead>\n",
       "  <tbody>\n",
       "    <tr>\n",
       "      <th>0</th>\n",
       "      <td>vacuum_mbar</td>\n",
       "      <td>1941.385494</td>\n",
       "      <td>10</td>\n",
       "      <td>194.138549</td>\n",
       "      <td>1.0</td>\n",
       "    </tr>\n",
       "    <tr>\n",
       "      <th>1</th>\n",
       "      <td>ring_nr</td>\n",
       "      <td>1552.818344</td>\n",
       "      <td>3</td>\n",
       "      <td>517.606115</td>\n",
       "      <td>1.0</td>\n",
       "    </tr>\n",
       "    <tr>\n",
       "      <th>2</th>\n",
       "      <td>vacuum_mbar * ring_nr</td>\n",
       "      <td>359.950184</td>\n",
       "      <td>30</td>\n",
       "      <td>11.998339</td>\n",
       "      <td>1.0</td>\n",
       "    </tr>\n",
       "    <tr>\n",
       "      <th>3</th>\n",
       "      <td>Residual</td>\n",
       "      <td>0.000000</td>\n",
       "      <td>0</td>\n",
       "      <td>NaN</td>\n",
       "      <td>NaN</td>\n",
       "    </tr>\n",
       "  </tbody>\n",
       "</table>\n",
       "</div>"
      ],
      "text/plain": [
       "                  Source           SS  DF          MS  np2\n",
       "0            vacuum_mbar  1941.385494  10  194.138549  1.0\n",
       "1                ring_nr  1552.818344   3  517.606115  1.0\n",
       "2  vacuum_mbar * ring_nr   359.950184  30   11.998339  1.0\n",
       "3               Residual     0.000000   0         NaN  NaN"
      ]
     },
     "execution_count": 40,
     "metadata": {},
     "output_type": "execute_result"
    }
   ],
   "source": [
    "pg.anova(data=lao_ring_data_df, dv=\"ring_est_abs\", between=[\"vacuum_mbar\",\"ring_nr\"], detailed=True)"
   ]
  },
  {
   "cell_type": "markdown",
   "metadata": {},
   "source": [
    "## Steel verformung"
   ]
  },
  {
   "cell_type": "code",
   "execution_count": 47,
   "metadata": {},
   "outputs": [],
   "source": [
    "from pathlib import Path\n",
    "measurement_folder  = Path.cwd().parent / 'measurements'\n",
    "steel_meas_files = tdu.read_txt_files(measurement_folder/ 'steel_vac_new_pump')\n",
    "steel_files = {key: val for key, val in steel_meas_files.items() if key.split('_')[1]=='steel'}"
   ]
  },
  {
   "cell_type": "code",
   "execution_count": 48,
   "metadata": {},
   "outputs": [],
   "source": [
    "steel_files = {key.split('_')[2].split('.')[0]: val for key, val in steel_files.items()}"
   ]
  },
  {
   "cell_type": "code",
   "execution_count": 49,
   "metadata": {},
   "outputs": [],
   "source": [
    "sorted_steel_raw = {key:val for key, val in sorted(steel_files.items(), key=lambda item: abs(float(tdu.key_sort_helper(item[0]))))}"
   ]
  },
  {
   "cell_type": "code",
   "execution_count": 50,
   "metadata": {},
   "outputs": [],
   "source": [
    "sorted_steel_pt = {key: tdu.point_table(val) for key, val in sorted_steel_raw.items()}"
   ]
  },
  {
   "cell_type": "code",
   "execution_count": 51,
   "metadata": {},
   "outputs": [
    {
     "data": {
      "text/plain": [
       "dict_keys(['60mbar', '100mbar', '200mbar', '300mbar', '400mbar', '500mbar', '600mbar', '700mbar', '800mbar', '900mbar', '1000mbar', '9999mbar'])"
      ]
     },
     "execution_count": 51,
     "metadata": {},
     "output_type": "execute_result"
    }
   ],
   "source": [
    "sorted_steel_pt.keys()"
   ]
  },
  {
   "cell_type": "code",
   "execution_count": 52,
   "metadata": {},
   "outputs": [],
   "source": [
    "del sorted_steel_pt['1000mbar']"
   ]
  },
  {
   "cell_type": "code",
   "execution_count": 53,
   "metadata": {},
   "outputs": [],
   "source": [
    "sorted_steel_pt['1000mbar'] = sorted_steel_pt['9999mbar']"
   ]
  },
  {
   "cell_type": "code",
   "execution_count": 54,
   "metadata": {},
   "outputs": [],
   "source": [
    "del sorted_steel_pt['9999mbar']"
   ]
  },
  {
   "cell_type": "code",
   "execution_count": 55,
   "metadata": {},
   "outputs": [],
   "source": [
    "reference_measurement_steel = sorted_steel_pt['1000mbar']"
   ]
  },
  {
   "cell_type": "code",
   "execution_count": 56,
   "metadata": {},
   "outputs": [],
   "source": [
    "sorted_steel_pt = {key: tdu.combine_mean_measurements(val, reference_measurement_steel) for key, val in sorted_steel_pt.items()}"
   ]
  },
  {
   "cell_type": "code",
   "execution_count": 57,
   "metadata": {},
   "outputs": [],
   "source": [
    "steel_ring_data_plot = [calc_ring_means(key, val) for key, val in sorted_steel_pt.items()]"
   ]
  },
  {
   "cell_type": "code",
   "execution_count": 62,
   "metadata": {},
   "outputs": [
    {
     "data": {
      "text/html": [
       "<div>\n",
       "<style scoped>\n",
       "    .dataframe tbody tr th:only-of-type {\n",
       "        vertical-align: middle;\n",
       "    }\n",
       "\n",
       "    .dataframe tbody tr th {\n",
       "        vertical-align: top;\n",
       "    }\n",
       "\n",
       "    .dataframe thead th {\n",
       "        text-align: right;\n",
       "    }\n",
       "</style>\n",
       "<table border=\"1\" class=\"dataframe\">\n",
       "  <thead>\n",
       "    <tr style=\"text-align: right;\">\n",
       "      <th></th>\n",
       "      <th>ring_est</th>\n",
       "      <th>ring_err</th>\n",
       "      <th>vacuum_mbar</th>\n",
       "      <th>ring_nr</th>\n",
       "    </tr>\n",
       "  </thead>\n",
       "  <tbody>\n",
       "    <tr>\n",
       "      <th>0</th>\n",
       "      <td>-18.839161</td>\n",
       "      <td>1.224183</td>\n",
       "      <td>60</td>\n",
       "      <td>1</td>\n",
       "    </tr>\n",
       "    <tr>\n",
       "      <th>1</th>\n",
       "      <td>-19.384615</td>\n",
       "      <td>1.076923</td>\n",
       "      <td>60</td>\n",
       "      <td>2</td>\n",
       "    </tr>\n",
       "    <tr>\n",
       "      <th>2</th>\n",
       "      <td>-17.765385</td>\n",
       "      <td>1.394913</td>\n",
       "      <td>60</td>\n",
       "      <td>3</td>\n",
       "    </tr>\n",
       "    <tr>\n",
       "      <th>3</th>\n",
       "      <td>-17.016026</td>\n",
       "      <td>2.125631</td>\n",
       "      <td>60</td>\n",
       "      <td>4</td>\n",
       "    </tr>\n",
       "    <tr>\n",
       "      <th>0</th>\n",
       "      <td>-17.080420</td>\n",
       "      <td>1.310649</td>\n",
       "      <td>100</td>\n",
       "      <td>1</td>\n",
       "    </tr>\n",
       "    <tr>\n",
       "      <th>1</th>\n",
       "      <td>-17.814103</td>\n",
       "      <td>1.000594</td>\n",
       "      <td>100</td>\n",
       "      <td>2</td>\n",
       "    </tr>\n",
       "    <tr>\n",
       "      <th>2</th>\n",
       "      <td>-16.123077</td>\n",
       "      <td>1.332840</td>\n",
       "      <td>100</td>\n",
       "      <td>3</td>\n",
       "    </tr>\n",
       "    <tr>\n",
       "      <th>3</th>\n",
       "      <td>-15.977564</td>\n",
       "      <td>2.049787</td>\n",
       "      <td>100</td>\n",
       "      <td>4</td>\n",
       "    </tr>\n",
       "    <tr>\n",
       "      <th>0</th>\n",
       "      <td>-20.610140</td>\n",
       "      <td>0.869949</td>\n",
       "      <td>200</td>\n",
       "      <td>1</td>\n",
       "    </tr>\n",
       "    <tr>\n",
       "      <th>1</th>\n",
       "      <td>-21.397436</td>\n",
       "      <td>0.893160</td>\n",
       "      <td>200</td>\n",
       "      <td>2</td>\n",
       "    </tr>\n",
       "  </tbody>\n",
       "</table>\n",
       "</div>"
      ],
      "text/plain": [
       "    ring_est  ring_err vacuum_mbar  ring_nr\n",
       "0 -18.839161  1.224183          60        1\n",
       "1 -19.384615  1.076923          60        2\n",
       "2 -17.765385  1.394913          60        3\n",
       "3 -17.016026  2.125631          60        4\n",
       "0 -17.080420  1.310649         100        1\n",
       "1 -17.814103  1.000594         100        2\n",
       "2 -16.123077  1.332840         100        3\n",
       "3 -15.977564  2.049787         100        4\n",
       "0 -20.610140  0.869949         200        1\n",
       "1 -21.397436  0.893160         200        2"
      ]
     },
     "execution_count": 62,
     "metadata": {},
     "output_type": "execute_result"
    }
   ],
   "source": [
    "steel_ring_data_df = pd.concat(steel_ring_data_plot, axis=0)\n",
    "steel_ring_data_df.head(10)"
   ]
  },
  {
   "cell_type": "code",
   "execution_count": 59,
   "metadata": {},
   "outputs": [
    {
     "data": {
      "text/plain": [
       "(<Figure size 504x432 with 1 Axes>,\n",
       " <AxesSubplot:title={'center':'Steel Hexagon: air pruessure effect'}, xlabel='Ring Number', ylabel='z [µm]'>)"
      ]
     },
     "execution_count": 59,
     "metadata": {},
     "output_type": "execute_result"
    },
    {
     "data": {
      "image/png": "[encoded data removed]",
      "text/plain": [
       "<Figure size 504x432 with 1 Axes>"
      ]
     },
     "metadata": {},
     "output_type": "display_data"
    }
   ],
   "source": [
    "plot_rings_vs_z(steel_ring_data_df, specimen=\"Steel\")"
   ]
  },
  {
   "cell_type": "code",
   "execution_count": 60,
   "metadata": {},
   "outputs": [
    {
     "name": "stderr",
     "output_type": "stream",
     "text": [
      "C:\\Users\\Domin\\Anaconda3\\envs\\py_disk_env\\lib\\site-packages\\pingouin\\parametric.py:1028: RuntimeWarning: invalid value encountered in double_scalars\n",
      "  ms_resid = ss_resid / df_resid\n"
     ]
    },
    {
     "data": {
      "text/html": [
       "<div>\n",
       "<style scoped>\n",
       "    .dataframe tbody tr th:only-of-type {\n",
       "        vertical-align: middle;\n",
       "    }\n",
       "\n",
       "    .dataframe tbody tr th {\n",
       "        vertical-align: top;\n",
       "    }\n",
       "\n",
       "    .dataframe thead th {\n",
       "        text-align: right;\n",
       "    }\n",
       "</style>\n",
       "<table border=\"1\" class=\"dataframe\">\n",
       "  <thead>\n",
       "    <tr style=\"text-align: right;\">\n",
       "      <th></th>\n",
       "      <th>Source</th>\n",
       "      <th>SS</th>\n",
       "      <th>DF</th>\n",
       "      <th>MS</th>\n",
       "      <th>np2</th>\n",
       "    </tr>\n",
       "  </thead>\n",
       "  <tbody>\n",
       "    <tr>\n",
       "      <th>0</th>\n",
       "      <td>vacuum_mbar</td>\n",
       "      <td>1992.940827</td>\n",
       "      <td>10</td>\n",
       "      <td>199.294083</td>\n",
       "      <td>1.0</td>\n",
       "    </tr>\n",
       "    <tr>\n",
       "      <th>1</th>\n",
       "      <td>ring_nr</td>\n",
       "      <td>45.614553</td>\n",
       "      <td>3</td>\n",
       "      <td>15.204851</td>\n",
       "      <td>1.0</td>\n",
       "    </tr>\n",
       "    <tr>\n",
       "      <th>2</th>\n",
       "      <td>vacuum_mbar * ring_nr</td>\n",
       "      <td>14.730204</td>\n",
       "      <td>30</td>\n",
       "      <td>0.491007</td>\n",
       "      <td>1.0</td>\n",
       "    </tr>\n",
       "    <tr>\n",
       "      <th>3</th>\n",
       "      <td>Residual</td>\n",
       "      <td>0.000000</td>\n",
       "      <td>0</td>\n",
       "      <td>NaN</td>\n",
       "      <td>NaN</td>\n",
       "    </tr>\n",
       "  </tbody>\n",
       "</table>\n",
       "</div>"
      ],
      "text/plain": [
       "                  Source           SS  DF          MS  np2\n",
       "0            vacuum_mbar  1992.940827  10  199.294083  1.0\n",
       "1                ring_nr    45.614553   3   15.204851  1.0\n",
       "2  vacuum_mbar * ring_nr    14.730204  30    0.491007  1.0\n",
       "3               Residual     0.000000   0         NaN  NaN"
      ]
     },
     "execution_count": 60,
     "metadata": {},
     "output_type": "execute_result"
    }
   ],
   "source": [
    "pg.anova(data=steel_ring_data_df, dv=\"ring_est\", between=[\"vacuum_mbar\",\"ring_nr\"], detailed=True)"
   ]
  }
 ],
 "metadata": {
  "interpreter": {
   "hash": "37b9a4ceca14bcd086f7126d2003c50624ab952e98c9189a7d92aada78494547"
  },
  "kernelspec": {
   "display_name": "Python 3.9.7 64-bit ('disk_tiling': conda)",
   "language": "python",
   "name": "python3"
  },
  "language_info": {
   "codemirror_mode": {
    "name": "ipython",
    "version": 3
   },
   "file_extension": ".py",
   "mimetype": "text/x-python",
   "name": "python",
   "nbconvert_exporter": "python",
   "pygments_lexer": "ipython3",
   "version": "3.8.13"
  },
  "orig_nbformat": 4
 },
 "nbformat": 4,
 "nbformat_minor": 2
}
