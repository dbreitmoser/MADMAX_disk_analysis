{
 "cells": [
  {
   "cell_type": "code",
   "execution_count": null,
   "metadata": {},
   "outputs": [],
   "source": [
    "#* for data manipulation \n",
    "import pandas as pd \n",
    "import numpy as np \n",
    "\n",
    "import tiling_disk_plots as tdp\n",
    "import tiling_disk_utils as tdu\n",
    "\n",
    "#* sometimes needed for creating bins for histograms \n",
    "from astropy.stats import knuth_bin_width\n",
    "\n",
    "#* for plotting: \n",
    "import matplotlib.pyplot as plt \n",
    "import seaborn as sns\n",
    "%matplotlib inline\n",
    "sns.set_theme(style=\"ticks\")\n",
    "sns.set_context(\"talk\")\n",
    "%matplotlib inline"
   ]
  },
  {
   "cell_type": "markdown",
   "metadata": {},
   "source": [
    "### import table map"
   ]
  },
  {
   "cell_type": "code",
   "execution_count": null,
   "metadata": {},
   "outputs": [],
   "source": [
    "table_map = tdu.read_single_measurement('measurements/Tisch', '20220203_table_after_damage_full.txt')\n",
    "table_map = tdu.add_ring_nr_label(table_map)\n",
    "table_map = tdu.df_convert_unix_to_datetime(table_map)\n",
    "# table_map = table_map.query('-158 < z')\n",
    "\n",
    "# table_map['z'] = tdu.subtract_mean(table_map['z'])\n",
    "# table_map['z'] = tdu.convert_mm_to_microns(table_map['z'] )\n",
    "table_map_pt = tdu.point_table(table_map)\n",
    "table_map_pt = tdu.add_triplet_color_label(table_map_pt)"
   ]
  },
  {
   "cell_type": "code",
   "execution_count": null,
   "metadata": {},
   "outputs": [],
   "source": [
    "table_map_pt"
   ]
  },
  {
   "cell_type": "code",
   "execution_count": null,
   "metadata": {},
   "outputs": [],
   "source": [
    "table_map_pt.z_mean.describe()"
   ]
  },
  {
   "cell_type": "code",
   "execution_count": null,
   "metadata": {},
   "outputs": [],
   "source": [
    "fig, ax = tdp.full_hexagon_plot(table_map_pt, size=5**2, cbar_norm=(-158.070308, -157.999025, -157.869231), cmap='turbo')\n",
    "ax.set_title('Table measurement')"
   ]
  },
  {
   "cell_type": "markdown",
   "metadata": {},
   "source": [
    "### Read data"
   ]
  },
  {
   "cell_type": "code",
   "execution_count": null,
   "metadata": {},
   "outputs": [],
   "source": [
    "hardening_tripplets_df = tdu.read_single_measurement('measurements/triplets', '20220209_trip_vels_hardening.txt')\n",
    "# hardening_tripplets_df = tdu.add_ring_nr_label(hardening_tripplets_df)\n",
    "hardening_tripplets_df = tdu.df_convert_unix_to_datetime(hardening_tripplets_df)\n",
    "\n",
    "before_hardening_tripplets_df = tdu.read_single_measurement('measurements/triplets', '20220209_trip_vels_bfg_novac.txt')\n",
    "# before_hardening_tripplets_df = tdu.add_ring_nr_label(before_hardening_tripplets_df)\n",
    "before_hardening_tripplets_pt = tdu.point_table(before_hardening_tripplets_df)\n",
    "before_hardening_tripplets_pt = tdu.add_triplet_color_label(before_hardening_tripplets_pt)"
   ]
  },
  {
   "cell_type": "code",
   "execution_count": null,
   "metadata": {},
   "outputs": [],
   "source": [
    "before_hardening_tripplets_pt.keys()"
   ]
  },
  {
   "cell_type": "markdown",
   "metadata": {},
   "source": [
    "### Examine pre glue status"
   ]
  },
  {
   "cell_type": "code",
   "execution_count": null,
   "metadata": {},
   "outputs": [],
   "source": [
    "before_hardening_tripplets_pt['z_mean'].describe()"
   ]
  },
  {
   "cell_type": "code",
   "execution_count": null,
   "metadata": {},
   "outputs": [],
   "source": [
    "before_hardening_tripplets_pt.keys()"
   ]
  },
  {
   "cell_type": "code",
   "execution_count": null,
   "metadata": {},
   "outputs": [],
   "source": [
    "fig, ax = tdp.full_hexagon_plot(before_hardening_tripplets_pt, size=5**2, cbar_norm=(-157.056615, -156.981132, -156.879538), cmap='turbo')\n",
    "ax.set_title('Before Glue: No Vacuum')"
   ]
  },
  {
   "cell_type": "markdown",
   "metadata": {},
   "source": [
    "# compare before glue to table "
   ]
  },
  {
   "cell_type": "code",
   "execution_count": null,
   "metadata": {},
   "outputs": [],
   "source": [
    "# table_map_pt.drop('trip_color', axis=1, inplace=True)"
   ]
  },
  {
   "cell_type": "code",
   "execution_count": null,
   "metadata": {},
   "outputs": [],
   "source": [
    "before_hardening_tripplets_pt.drop('trip_color', axis=1, inplace=True)"
   ]
  },
  {
   "cell_type": "code",
   "execution_count": null,
   "metadata": {},
   "outputs": [],
   "source": [
    "ref_sub_table = tdu.combine_mean_measurements(before_hardening_tripplets_pt, table_map_pt)"
   ]
  },
  {
   "cell_type": "code",
   "execution_count": null,
   "metadata": {},
   "outputs": [],
   "source": [
    "ref_sub_table['z_mean'] = tdu.convert_mm_to_microns(ref_sub_table['z_mean'])"
   ]
  },
  {
   "cell_type": "code",
   "execution_count": null,
   "metadata": {},
   "outputs": [],
   "source": [
    "ref_sub_table['z_mean'].describe()"
   ]
  },
  {
   "cell_type": "code",
   "execution_count": null,
   "metadata": {},
   "outputs": [],
   "source": [
    "plt.hist(ref_sub_table['z_mean'])"
   ]
  },
  {
   "cell_type": "code",
   "execution_count": null,
   "metadata": {},
   "outputs": [],
   "source": [
    "tdp.full_hexagon_plot(ref_sub_table, mode=('z_mean'), size=5**2, cbar_norm=(941.692308, 1008.112743, 1104.846154), cmap='turbo', title='Before Glue - Table') #? hier muss auf mm konvertiert werden"
   ]
  },
  {
   "cell_type": "markdown",
   "metadata": {},
   "source": [
    "# Proceed with before glue as reference"
   ]
  },
  {
   "cell_type": "code",
   "execution_count": null,
   "metadata": {},
   "outputs": [],
   "source": [
    "tdp.plot_data_vs_time(hardening_tripplets_df)"
   ]
  },
  {
   "cell_type": "code",
   "execution_count": null,
   "metadata": {},
   "outputs": [],
   "source": [
    "tdp.ts_hist(hardening_tripplets_df)"
   ]
  },
  {
   "cell_type": "markdown",
   "metadata": {},
   "source": [
    "### Split Data into runs"
   ]
  },
  {
   "cell_type": "code",
   "execution_count": null,
   "metadata": {},
   "outputs": [],
   "source": [
    "hardening_tripplets_df = hardening_tripplets_df.query('run_nr != 29') # run 29 was incomplete"
   ]
  },
  {
   "cell_type": "code",
   "execution_count": null,
   "metadata": {},
   "outputs": [],
   "source": [
    "measurements_dict = {}\n",
    "for run in hardening_tripplets_df.run_nr.unique(): \n",
    "    data = hardening_tripplets_df.loc[hardening_tripplets_df.run_nr == run, :]\n",
    "    # print(data)\n",
    "    measurements_dict[f'run_nr_{run}'] = data"
   ]
  },
  {
   "cell_type": "code",
   "execution_count": null,
   "metadata": {},
   "outputs": [],
   "source": [
    "measurements_dict_pt = {key: tdu.point_table(data) for key, data in measurements_dict.items()}"
   ]
  },
  {
   "cell_type": "code",
   "execution_count": null,
   "metadata": {},
   "outputs": [],
   "source": [
    "for run_nr, data in measurements_dict_pt.items(): \n",
    "    data['run_nr'] = run_nr.split('_')[2]"
   ]
  },
  {
   "cell_type": "code",
   "execution_count": null,
   "metadata": {},
   "outputs": [],
   "source": [
    "measurements_dict_pt['run_nr_1']"
   ]
  },
  {
   "cell_type": "code",
   "execution_count": null,
   "metadata": {},
   "outputs": [],
   "source": [
    "# for key, data in measurements_dict_pt.items(): \n",
    "#     run_nr = int(key.split('_')[2])\n",
    "#     fig, ax = tdp.full_hexagon_plot(data, mode=('z_mean'), size=5**2, cbar_norm=(-157.056615, -156.981132, -156.879538), cmap='turbo', title=f'Hour {run_nr -1}')\n",
    "#     # fig.savefig(f'Vac_timestory/{run_nr}_Measurement.png', dpi='figure', format='png', metadata=None,\n",
    "#     #     bbox_inches=None, pad_inches=0.1,\n",
    "#     #     facecolor='auto', edgecolor='auto',\n",
    "#     #     backend=None\n",
    "#     #    )\n",
    "#     # plt.close()"
   ]
  },
  {
   "cell_type": "code",
   "execution_count": null,
   "metadata": {},
   "outputs": [],
   "source": [
    "measurements_dict_pt = {key: tdu.add_triplet_color_label(data) for key, data in measurements_dict_pt.items()}\n",
    "measurements_dict_pt = {key: tdu.combine_mean_measurements(data, before_hardening_tripplets_pt) for key, data in measurements_dict_pt.items()}"
   ]
  },
  {
   "cell_type": "code",
   "execution_count": null,
   "metadata": {},
   "outputs": [],
   "source": [
    "measurements_dict_pt['run_nr_6']"
   ]
  },
  {
   "cell_type": "code",
   "execution_count": null,
   "metadata": {},
   "outputs": [],
   "source": [
    "for key, data in measurements_dict_pt.items():\n",
    "    data['z_mean'] = data['z_mean'].apply(lambda z: z*1e3) #* mm -> µm\n",
    "    data['z_measurement_error'] = data['z_measurement_error'].apply(lambda z: z*1e3) #* mm -> µm\n",
    "    measurements_dict_pt[key] = data"
   ]
  },
  {
   "cell_type": "code",
   "execution_count": null,
   "metadata": {},
   "outputs": [],
   "source": [
    "measurements_dict_pt['run_nr_1']"
   ]
  },
  {
   "cell_type": "code",
   "execution_count": null,
   "metadata": {},
   "outputs": [],
   "source": [
    "for key, data in measurements_dict_pt.items(): \n",
    "    run_nr = int(key.split('_')[2])\n",
    "    fig, ax = tdp.full_hexagon_plot(data, mode=('z_mean'), size=5**2, cbar_norm=(-50, 0, 50), cmap='turbo', title=f'Hour {run_nr -1}')\n",
    "    # fig.savefig(f'Vac_timestory/{run_nr}_Measurement.png', dpi='figure', format='png', metadata=None,\n",
    "    #     bbox_inches=None, pad_inches=0.1,\n",
    "    #     facecolor='auto', edgecolor='auto',\n",
    "    #     backend=None\n",
    "    #    )\n",
    "    # plt.close()"
   ]
  },
  {
   "cell_type": "markdown",
   "metadata": {},
   "source": [
    "# hier kommt jetzt der joyplot"
   ]
  },
  {
   "cell_type": "markdown",
   "metadata": {},
   "source": [
    "erstmal die funktion schreiben um verteilung von einem triplet in einem run zu sehen "
   ]
  },
  {
   "cell_type": "code",
   "execution_count": null,
   "metadata": {},
   "outputs": [],
   "source": [
    "# for key, data in measurements_dict_pt.items(): \n",
    "#     run_nr = int(key.split('_')[2])\n",
    "#     data = data.loc[data.trip_color=='blue',:]\n",
    "#     tdp.ts_hist(data, mode='z_mean')\n"
   ]
  },
  {
   "cell_type": "code",
   "execution_count": null,
   "metadata": {},
   "outputs": [],
   "source": [
    "tdp.plot_triplet_dist_joyplot(measurements_dict_pt, 'blue')"
   ]
  },
  {
   "cell_type": "code",
   "execution_count": null,
   "metadata": {},
   "outputs": [],
   "source": [
    "tdp.plot_triplet_dist_joyplot(measurements_dict_pt, 'brown')"
   ]
  },
  {
   "cell_type": "code",
   "execution_count": null,
   "metadata": {},
   "outputs": [],
   "source": [
    "tdp.plot_triplet_dist_joyplot(measurements_dict_pt, 'yellow')"
   ]
  }
 ],
 "metadata": {
  "interpreter": {
   "hash": "f9452639325fbf735830a1b6fe1ed639c72cc24349a805a6eda1114dbf19b356"
  },
  "kernelspec": {
   "display_name": "Python 3.8.11 64-bit ('tiling_disks': conda)",
   "name": "python3"
  },
  "language_info": {
   "codemirror_mode": {
    "name": "ipython",
    "version": 3
   },
   "file_extension": ".py",
   "mimetype": "text/x-python",
   "name": "python",
   "nbconvert_exporter": "python",
   "pygments_lexer": "ipython3",
   "version": "3.8.11"
  },
  "orig_nbformat": 4
 },
 "nbformat": 4,
 "nbformat_minor": 2
}
